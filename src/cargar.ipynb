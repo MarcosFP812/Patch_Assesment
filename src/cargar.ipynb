{
 "cells": [
  {
   "cell_type": "code",
   "execution_count": 1,
   "metadata": {},
   "outputs": [],
   "source": [
    "from transformers import AutoTokenizer, DataCollatorForLanguageModeling\n",
    "from datasets import load_from_disk\n",
    "\n",
    "tokenizer_path = \"/home/hpc01/Marcos/Patch_Assesment/Tokenizer\"\n",
    "tokenized_dataset_path = \"/home/hpc01/Marcos/Patch_Assesment/Dataset/TokenizedDatasets/large\"\n",
    "\n",
    "tokenizer = AutoTokenizer.from_pretrained(tokenizer_path)\n",
    "tokenized_datasets = load_from_disk(tokenized_dataset_path)\n",
    "\n",
    "batch_size = 4\n",
    "tokenizer.pad_token = tokenizer.eos_token\n"
   ]
  },
  {
   "cell_type": "code",
   "execution_count": 4,
   "metadata": {},
   "outputs": [
    {
     "data": {
      "text/plain": [
       "DatasetDict({\n",
       "    train: Dataset({\n",
       "        features: ['labels', 'input_ids', 'attention_mask'],\n",
       "        num_rows: 39755\n",
       "    })\n",
       "    test: Dataset({\n",
       "        features: ['labels', 'input_ids', 'attention_mask'],\n",
       "        num_rows: 9939\n",
       "    })\n",
       "})"
      ]
     },
     "execution_count": 4,
     "metadata": {},
     "output_type": "execute_result"
    }
   ],
   "source": [
    "tokenized_datasets"
   ]
  },
  {
   "cell_type": "code",
   "execution_count": 2,
   "metadata": {},
   "outputs": [],
   "source": [
    "data_collator = DataCollatorForLanguageModeling(tokenizer, mlm=False)"
   ]
  },
  {
   "cell_type": "code",
   "execution_count": 11,
   "metadata": {},
   "outputs": [
    {
     "name": "stdout",
     "output_type": "stream",
     "text": [
      "{'labels': tensor([[128000,  19741,    482,  ...,   -100,   -100,   -100],\n",
      "        [128000,  19741,    482,  ...,    256,    457,  15073],\n",
      "        [128000,  19741,    482,  ...,   -100,   -100,   -100],\n",
      "        [128000,  19741,    482,  ...,   -100,   -100,   -100]]), 'input_ids': tensor([[128000,  19741,    482,  ..., 128001, 128001, 128001],\n",
      "        [128000,  19741,    482,  ...,    256,    457,  15073],\n",
      "        [128000,  19741,    482,  ..., 128001, 128001, 128001],\n",
      "        [128000,  19741,    482,  ..., 128001, 128001, 128001]]), 'attention_mask': tensor([[1, 1, 1,  ..., 0, 0, 0],\n",
      "        [1, 1, 1,  ..., 1, 1, 1],\n",
      "        [1, 1, 1,  ..., 0, 0, 0],\n",
      "        [1, 1, 1,  ..., 0, 0, 0]])}\n",
      "labels shape: torch.Size([4, 258])\n",
      "input_ids shape: torch.Size([4, 258])\n",
      "attention_mask shape: torch.Size([4, 258])\n"
     ]
    }
   ],
   "source": [
    "out = data_collator([tokenized_datasets[\"train\"][i+4] for i in range(batch_size)])\n",
    "print(out)\n",
    "for key in out:\n",
    "    print(f\"{key} shape: {out[key].shape}\")"
   ]
  }
 ],
 "metadata": {
  "kernelspec": {
   "display_name": "marcos",
   "language": "python",
   "name": "python3"
  },
  "language_info": {
   "codemirror_mode": {
    "name": "ipython",
    "version": 3
   },
   "file_extension": ".py",
   "mimetype": "text/x-python",
   "name": "python",
   "nbconvert_exporter": "python",
   "pygments_lexer": "ipython3",
   "version": "3.10.14"
  }
 },
 "nbformat": 4,
 "nbformat_minor": 2
}
